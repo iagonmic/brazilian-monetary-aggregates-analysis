{
 "cells": [
  {
   "cell_type": "code",
   "execution_count": 2,
   "id": "ef0a4c71",
   "metadata": {},
   "outputs": [],
   "source": [
    "import io, requests, pandas as pd, numpy as np\n",
    "from statsmodels.api import OLS, add_constant\n",
    "from bcb import sgs\n"
   ]
  },
  {
   "cell_type": "code",
   "execution_count": 7,
   "id": "ce0cd87e",
   "metadata": {},
   "outputs": [],
   "source": [
    "m2 = sgs.get(27810, \"2001-07-31\")"
   ]
  },
  {
   "cell_type": "code",
   "execution_count": null,
   "id": "9acf51a0",
   "metadata": {},
   "outputs": [
    {
     "name": "stdout",
     "output_type": "stream",
     "text": [
      "<class 'pandas.core.frame.DataFrame'>\n",
      "DatetimeIndex: 288 entries, 2001-08-01 to 2025-07-01\n",
      "Data columns (total 1 columns):\n",
      " #   Column  Non-Null Count  Dtype  \n",
      "---  ------  --------------  -----  \n",
      " 0   27810   284 non-null    float64\n",
      "dtypes: float64(1)\n",
      "memory usage: 4.5 KB\n"
     ]
    }
   ],
   "source": [
    "def merge_pib_tax_rate"
   ]
  }
 ],
 "metadata": {
  "kernelspec": {
   "display_name": "Python 3",
   "language": "python",
   "name": "python3"
  },
  "language_info": {
   "codemirror_mode": {
    "name": "ipython",
    "version": 3
   },
   "file_extension": ".py",
   "mimetype": "text/x-python",
   "name": "python",
   "nbconvert_exporter": "python",
   "pygments_lexer": "ipython3",
   "version": "3.13.5"
  }
 },
 "nbformat": 4,
 "nbformat_minor": 5
}
